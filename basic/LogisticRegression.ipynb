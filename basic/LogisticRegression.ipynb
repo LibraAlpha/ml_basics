{
 "cells": [
  {
   "cell_type": "code",
   "execution_count": 16,
   "outputs": [],
   "source": [
    "import time\n",
    "import numpy as np\n",
    "from mnist import Mnist"
   ],
   "metadata": {
    "collapsed": false,
    "pycharm": {
     "name": "#%%\n"
    }
   }
  },
  {
   "cell_type": "code",
   "execution_count": 17,
   "outputs": [],
   "source": [
    "dataloader = Mnist()\n",
    "train_data, train_label = dataloader.get_data(train=True)"
   ],
   "metadata": {
    "collapsed": false,
    "pycharm": {
     "name": "#%%\n"
    }
   }
  },
  {
   "cell_type": "code",
   "execution_count": null,
   "outputs": [],
   "source": [
    "np.array(train_data).shape"
   ],
   "metadata": {
    "collapsed": false,
    "pycharm": {
     "name": "#%%\n"
    }
   }
  },
  {
   "cell_type": "code",
   "execution_count": null,
   "outputs": [],
   "source": [
    "def logistic_regression(epochs=200, step = 0.001):\n",
    "    \"\"\"\n",
    "    :param epochs: 迭代次数\n",
    "    :param step: 步长\n",
    "    :return:\n",
    "    \"\"\"\n",
    "    for i in range(len(train_data)):\n",
    "        train_data[i].append(1)\n",
    "\n",
    "    train_data_arr = np.array(train_data)\n",
    "\n",
    "    # 初始化w,\n",
    "    w = np.zeros(train_data_arr.shape[1])\n",
    "\n",
    "    # 迭代轮数\n",
    "    for epoch in range(epochs):\n",
    "        # 遍历数据进行调参\n",
    "        if epoch % 10 == 0:\n",
    "            print(epoch)\n",
    "        for idx in range(train_data_arr.shape[0]):\n",
    "            wx = np.dot(w, train_data_arr[idx])\n",
    "\n",
    "            y = train_label[idx]\n",
    "            x= train_data_arr[idx]\n",
    "            # 梯度下降\n",
    "            w += step * (x * y - (np.exp(wx) * x)) / (1 + np.exp(wx))\n",
    "\n",
    "    return w"
   ],
   "metadata": {
    "collapsed": false,
    "pycharm": {
     "name": "#%%\n"
    }
   }
  },
  {
   "cell_type": "code",
   "execution_count": null,
   "outputs": [],
   "source": [
    "def pred(w, x):\n",
    "    wx = np.dot(w, x)\n",
    "    p = np.exp(wx) / (1 + np.exp(wx))\n",
    "    if p > 0.5:\n",
    "        return 1\n",
    "    else:\n",
    "        return 0"
   ],
   "metadata": {
    "collapsed": false,
    "pycharm": {
     "name": "#%%\n"
    }
   }
  },
  {
   "cell_type": "code",
   "execution_count": null,
   "outputs": [],
   "source": [
    "def test(w):\n",
    "    test_data, test_label = dataloader.get_data(False)\n",
    "\n",
    "    err_cnt = 0\n",
    "\n",
    "    for i in range(len(test_data)):\n",
    "        test_data[i].append(1)\n",
    "\n",
    "    for idx in range(len(test_data)):\n",
    "        if test_label[idx] != pred(w, test_data[idx]):\n",
    "            err_cnt += 1\n",
    "\n",
    "    return 1 - err_cnt / len(test_data)"
   ],
   "metadata": {
    "collapsed": false,
    "pycharm": {
     "name": "#%%\n"
    }
   }
  },
  {
   "cell_type": "code",
   "execution_count": null,
   "outputs": [],
   "source": [
    "w = logistic_regression()"
   ],
   "metadata": {
    "collapsed": false,
    "pycharm": {
     "name": "#%%\n"
    }
   }
  },
  {
   "cell_type": "code",
   "execution_count": null,
   "outputs": [],
   "source": [
    "w.shape"
   ],
   "metadata": {
    "collapsed": false,
    "pycharm": {
     "name": "#%%\n"
    }
   }
  }
 ],
 "metadata": {
  "kernelspec": {
   "name": "python3",
   "language": "python",
   "display_name": "Python 3 (ipykernel)"
  },
  "language_info": {
   "codemirror_mode": {
    "name": "ipython",
    "version": 2
   },
   "file_extension": ".py",
   "mimetype": "text/x-python",
   "name": "python",
   "nbconvert_exporter": "python",
   "pygments_lexer": "ipython2",
   "version": "2.7.6"
  }
 },
 "nbformat": 4,
 "nbformat_minor": 0
}