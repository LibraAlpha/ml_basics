{
 "cells": [
  {
   "cell_type": "code",
   "execution_count": 18,
   "outputs": [],
   "source": [
    "import torch\n",
    "import torch.nn as nn\n",
    "import torch.nn.functional as F"
   ],
   "metadata": {
    "collapsed": false,
    "pycharm": {
     "name": "#%%\n"
    }
   }
  },
  {
   "cell_type": "code",
   "execution_count": 23,
   "outputs": [],
   "source": [
    "class MultiHeadAttention(nn.Module):\n",
    "    def __init__(self, query_dim, key_dim, value_dim, num_heads):\n",
    "        super(MultiHeadAttention, self).__init__()\n",
    "        self.num_heads = num_heads\n",
    "        self.query_dim = query_dim\n",
    "        self.key_dim = key_dim\n",
    "        self.value_dim = value_dim\n",
    "\n",
    "        assert query_dim % num_heads == 0\n",
    "        assert key_dim % num_heads == 0\n",
    "        assert value_dim % num_heads == 0\n",
    "\n",
    "        self.depth = key_dim // num_heads # 计算每个头的深度\n",
    "\n",
    "        self.query_layer = nn.Linear(query_dim, query_dim)\n",
    "        self.key_layer = nn.Linear(key_dim, key_dim)\n",
    "        self.value_layer = nn.Linear(value_dim, value_dim)\n",
    "        self.output_layer = nn.Linear(query_dim, query_dim)\n",
    "\n",
    "    def split_heads(self, x, batch_size):\n",
    "        print(f\"Before split: {x.shape}\")\n",
    "        x = x.view(batch_size, -1, self.num_heads, self.depth) # 重新调整输入的维度，将其拆分成多个头。\n",
    "        x = x.transpose(1, 2)\n",
    "        print(f\"After split: {x.shape}\")\n",
    "        return x\n",
    "\n",
    "    def forward(self, query, keys, values):\n",
    "        batch_size = query.size(0)\n",
    "\n",
    "        print(\"Batch size is \", batch_size)\n",
    "\n",
    "        query = self.query_layer(query)\n",
    "        keys = self.key_layer(keys)\n",
    "        values = self.value_layer(values)\n",
    "\n",
    "        print(\"Split Query.\")\n",
    "        query = self.split_heads(query, batch_size)\n",
    "        print(\"Split Key.\")\n",
    "        keys = self.split_heads(keys, batch_size)\n",
    "        print(\"Split Value.\")\n",
    "        values = self.split_heads(values, batch_size)\n",
    "\n",
    "\n",
    "        # Attention(Q, K, V) = softmax(Q * K.T/sqrt(dim_k))\n",
    "        attention_scores = torch.matmul(query, keys.transpose(-2, -1)) / (self.depth ** 0.5)\n",
    "        attention_weights = F.softmax(attention_scores, dim=-1)\n",
    "        weighted_values = torch.matmul(attention_weights, values)\n",
    "\n",
    "        weighted_values = weighted_values.transpose(1, 2).contiguous().view(batch_size, -1, self.query_dim)\n",
    "        output = self.output_layer(weighted_values)\n",
    "\n",
    "        return output, attention_weights"
   ],
   "metadata": {
    "collapsed": false,
    "pycharm": {
     "name": "#%%\n"
    }
   }
  },
  {
   "cell_type": "code",
   "execution_count": 29,
   "outputs": [
    {
     "name": "stdout",
     "output_type": "stream",
     "text": [
      "Batch size is  1\n",
      "Split Query.\n",
      "Before split: torch.Size([1, 3, 6])\n",
      "After split: torch.Size([1, 2, 3, 3])\n",
      "Split Key.\n",
      "Before split: torch.Size([1, 5, 6])\n",
      "After split: torch.Size([1, 2, 5, 3])\n",
      "Split Value.\n",
      "Before split: torch.Size([1, 5, 6])\n",
      "After split: torch.Size([1, 2, 5, 3])\n",
      "多头注意力输出: 输出维度： torch.Size([1, 3, 6]) \n",
      " tensor([[[-0.1535, -0.4247, -0.1395, -0.4718,  0.1190,  0.3651],\n",
      "         [-0.1183, -0.3199, -0.1579, -0.4439,  0.1964,  0.3679],\n",
      "         [-0.0967, -0.4078, -0.1471, -0.4125,  0.1205,  0.3756]]],\n",
      "       grad_fn=<ViewBackward0>)\n",
      "多头注意力权重: 权重维度： torch.Size([1, 2, 3, 5]) \n",
      " tensor([[[[0.0768, 0.2107, 0.2565, 0.1368, 0.3192],\n",
      "          [0.3251, 0.2179, 0.1229, 0.1612, 0.1728],\n",
      "          [0.0869, 0.2524, 0.2104, 0.1082, 0.3421]],\n",
      "\n",
      "         [[0.2062, 0.1938, 0.1699, 0.1516, 0.2784],\n",
      "          [0.2344, 0.2726, 0.1321, 0.1613, 0.1997],\n",
      "          [0.2618, 0.2863, 0.0658, 0.0781, 0.3080]]]],\n",
      "       grad_fn=<SoftmaxBackward0>)\n"
     ]
    }
   ],
   "source": [
    "# 示例\n",
    "multi_head_attention = MultiHeadAttention(query_dim=6, key_dim=6, value_dim=6, num_heads=2)\n",
    "query = torch.randn(1, 3, 6)  # 单个查询，维度为6, (batch_size = 1, query_len, query_dim=6)\n",
    "keys = torch.randn(1, 5, 6)   # 5个键，维度为6 batch_size = 1, key_len, query_dim=6\n",
    "values = torch.randn(1, 5, 6) # 5个值，维度为6 batch_size = 1, value_len, query_dim=6\n",
    "\n",
    "output, weights = multi_head_attention(query, keys, values)\n",
    "print(\"多头注意力输出:\", \"输出维度：\",output.shape, \"\\n\", output)\n",
    "print(\"多头注意力权重:\", \"权重维度：\", weights.shape, \"\\n\", weights)"
   ],
   "metadata": {
    "collapsed": false,
    "pycharm": {
     "name": "#%%\n"
    }
   }
  }
 ],
 "metadata": {
  "kernelspec": {
   "name": "pycharm-e33ee31",
   "language": "python",
   "display_name": "PyCharm (ml_basics)"
  },
  "language_info": {
   "codemirror_mode": {
    "name": "ipython",
    "version": 2
   },
   "file_extension": ".py",
   "mimetype": "text/x-python",
   "name": "python",
   "nbconvert_exporter": "python",
   "pygments_lexer": "ipython2",
   "version": "2.7.6"
  }
 },
 "nbformat": 4,
 "nbformat_minor": 0
}