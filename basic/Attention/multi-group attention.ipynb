{
 "cells": [
  {
   "cell_type": "code",
   "execution_count": 1,
   "outputs": [],
   "source": [
    "import torch\n",
    "import torch.nn as nn\n",
    "import torch.nn.functional as F"
   ],
   "metadata": {
    "collapsed": false,
    "pycharm": {
     "name": "#%%\n"
    }
   }
  },
  {
   "cell_type": "code",
   "execution_count": 2,
   "outputs": [],
   "source": [
    "class MultiGroupAttention(nn.Module):\n",
    "    def __init__(self, query_dim, key_dim, value_dim, num_heads, num_groups):\n",
    "        super(MultiGroupAttention, self).__init__()\n",
    "        self.num_heads = num_heads\n",
    "        self.num_groups = num_groups\n",
    "        self.query_dim = query_dim\n",
    "        self.key_dim = key_dim\n",
    "        self.value_dim = value_dim\n",
    "\n",
    "        assert query_dim % (num_heads * num_groups) == 0\n",
    "        assert key_dim % (num_heads * num_groups) == 0\n",
    "        assert value_dim % (num_heads * num_groups) == 0\n",
    "\n",
    "        self.depth = query_dim // (num_groups * num_heads)\n",
    "\n",
    "        # 定义线性层用于对查询、键和值进行变换\n",
    "        self.query_layer = nn.Linear(query_dim, query_dim)\n",
    "        self.key_layer = nn.Linear(key_dim, key_dim)\n",
    "        self.value_layer = nn.Linear(value_dim, value_dim)\n",
    "        self.output_layer = nn.Linear(query_dim, query_dim)\n",
    "\n",
    "    def split_heads_and_groups(self, x, batch_size):\n",
    "        # 将张量的形状调整为 (batch_size, seq_length, num_groups, num_heads, depth)\n",
    "        x = x.view(batch_size, -1, self.num_groups, self.num_heads, self.depth)\n",
    "        x.permute(0, 2, 3, 1, 4)\n",
    "        # 打印转换后的形状\n",
    "        print(\"Shape of x after permutation:\", x.shape)\n",
    "        # 交换维度，使其形状为 (batch_size, num_groups, num_heads, seq_length, depth)\n",
    "        return x\n",
    "\n",
    "    def forward(self, query, keys, values):\n",
    "        batch_size = query.size(0)\n",
    "\n",
    "        query = self.query_layer(query)\n",
    "        keys = self.key_layer(keys)\n",
    "        values = self.value_layer(values)\n",
    "\n",
    "        # 计算缩放点积注意力得分\n",
    "        attention_scores = torch.matmul(query, keys.transpose(-2, -1)) / (self.depth ** 0.5)\n",
    "        # 通过softmax计算注意力权重\n",
    "        attention_weights = F.softmax(attention_scores, dim=-1)\n",
    "         # 用注意力权重加权求和值\n",
    "        weighted_values = torch.matmul(attention_weights, values)\n",
    "        # 交换维度并调整形状，使其变回 (batch_size, seq_length, query_dim)\n",
    "        weighted_values = weighted_values.transpose(1, 2).contiguous().view(batch_size, -1, self.query_dim)\n",
    "\n",
    "        # 通过线性层输出最终结果\n",
    "        output = self.output_layer(weighted_values)\n",
    "\n",
    "        return output, attention_weights"
   ],
   "metadata": {
    "collapsed": false,
    "pycharm": {
     "name": "#%%\n"
    }
   }
  },
  {
   "cell_type": "code",
   "execution_count": 4,
   "outputs": [
    {
     "name": "stdout",
     "output_type": "stream",
     "text": [
      "多组注意力输出: tensor([[[-0.2787,  0.2405,  0.0251, -0.3208,  0.1949, -0.0251,  0.0369,\n",
      "           0.0381, -0.1912, -0.1752,  0.3274,  0.1324],\n",
      "         [-0.2174, -0.0020, -0.2271, -0.0426,  0.2986,  0.4000,  0.3628,\n",
      "          -0.2052,  0.1341,  0.0652,  0.2452,  0.1521],\n",
      "         [-0.2798,  0.3276, -0.2936, -0.2366, -0.0550, -0.0022,  0.1846,\n",
      "           0.0132, -0.1206, -0.3476,  0.2301,  0.2930]]],\n",
      "       grad_fn=<ViewBackward0>)\n",
      "多组注意力权重: tensor([[[0.1131, 0.0872, 0.1408, 0.3662, 0.2927],\n",
      "         [0.2915, 0.2067, 0.2004, 0.1587, 0.1427],\n",
      "         [0.1323, 0.1613, 0.3088, 0.1702, 0.2274]]],\n",
      "       grad_fn=<SoftmaxBackward0>)\n"
     ]
    }
   ],
   "source": [
    "# 示例\n",
    "multi_group_attention = MultiGroupAttention(query_dim=12, key_dim=12, value_dim=12, num_heads=2, num_groups=2)\n",
    "query = torch.randn(1, 3, 12)  # 单个查询，维度为6\n",
    "keys = torch.randn(1, 5, 12)   # 5个键，维度为6\n",
    "values = torch.randn(1, 5, 12) # 5个值，维度为6\n",
    "\n",
    "output, weights = multi_group_attention(query, keys, values)\n",
    "print(\"多组注意力输出:\", output)\n",
    "print(\"多组注意力权重:\", weights)"
   ],
   "metadata": {
    "collapsed": false,
    "pycharm": {
     "name": "#%%\n"
    }
   }
  },
  {
   "cell_type": "code",
   "execution_count": null,
   "outputs": [],
   "source": [],
   "metadata": {
    "collapsed": false,
    "pycharm": {
     "name": "#%%\n"
    }
   }
  }
 ],
 "metadata": {
  "kernelspec": {
   "name": "pycharm-e33ee31",
   "language": "python",
   "display_name": "PyCharm (ml_basics)"
  },
  "language_info": {
   "codemirror_mode": {
    "name": "ipython",
    "version": 2
   },
   "file_extension": ".py",
   "mimetype": "text/x-python",
   "name": "python",
   "nbconvert_exporter": "python",
   "pygments_lexer": "ipython2",
   "version": "2.7.6"
  }
 },
 "nbformat": 4,
 "nbformat_minor": 0
}