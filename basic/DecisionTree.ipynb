{
 "cells": [
  {
   "cell_type": "code",
   "execution_count": 3,
   "metadata": {
    "collapsed": true,
    "pycharm": {
     "name": "#%%\n"
    }
   },
   "outputs": [],
   "source": [
    "import numpy as np\n",
    "from mnist import Mnist"
   ]
  },
  {
   "cell_type": "code",
   "execution_count": 4,
   "outputs": [],
   "source": [
    "dataloadeer = Mnist()\n",
    "train_data, train_label = dataloadeer.get_data()\n",
    "test_data, test_label = dataloadeer.get_data(False)"
   ],
   "metadata": {
    "collapsed": false,
    "pycharm": {
     "name": "#%%\n"
    }
   }
  },
  {
   "cell_type": "markdown",
   "source": [
    "### 经验熵：H(D) = Sum(|C_k|/|D| * log2(|C_k|/|D|)))\n",
    "### 信息增益：H(D) - H(D|A)，\n",
    "### 信息纯度：Gini(D) = 1 - (sum(|C_k|/|D|))^2\n",
    "- ID3：通过信息增益来进行分支，基础公式：\n",
    "- C4.5: 通过信息增益比\n",
    "- CART:Gini"
   ],
   "metadata": {
    "collapsed": false,
    "pycharm": {
     "name": "#%% md\n"
    }
   }
  },
  {
   "cell_type": "code",
   "execution_count": 4,
   "outputs": [],
   "source": [
    "def cal_entropy(label_arr):\n",
    "    entropy = 0\n",
    "    label_set = set(label_arr)\n",
    "    for i in label_set:\n",
    "        p = label_arr[label_arr == i].size / len(label_arr) # C_K / D\n",
    "        entropy += -1 * p * np.log2(p)\n",
    "    return entropy"
   ],
   "metadata": {
    "collapsed": false,
    "pycharm": {
     "name": "#%%\n"
    }
   }
  },
  {
   "cell_type": "markdown",
   "source": [
    "### H(D|A) = Sum(D_I/D * H(D)), D_I表示特征A取值为I的样本子集"
   ],
   "metadata": {
    "collapsed": false,
    "pycharm": {
     "name": "#%% md\n"
    }
   }
  },
  {
   "cell_type": "code",
   "execution_count": 8,
   "outputs": [],
   "source": [
    "def cal_conditional_entroy(feature_array:np.array, label_array:np.array):\n",
    "    H_D_A = 0\n",
    "\n",
    "    label_set = set(feature_array)\n",
    "    for i in label_set:\n",
    "        H_D_i = cal_entropy(label_array[feature_array == i])\n",
    "        H_D_A += H_D_i * feature_array[feature_array == i].size / feature_array.size\n",
    "\n",
    "    return H_D_A"
   ],
   "metadata": {
    "collapsed": false,
    "pycharm": {
     "name": "#%%\n"
    }
   }
  },
  {
   "cell_type": "code",
   "execution_count": 9,
   "outputs": [],
   "source": [
    "def cal_info_gain(feature_array, label_array):\n",
    "    return cal_entropy(label_array) - cal_conditional_entroy(feature_array, label_array)"
   ],
   "metadata": {
    "collapsed": false,
    "pycharm": {
     "name": "#%%\n"
    }
   }
  },
  {
   "cell_type": "code",
   "execution_count": 2,
   "outputs": [],
   "source": [
    "class Node:\n",
    "    def __init__(self, attribute=None, value=None, label=None):\n",
    "        self.attribute = attribute\n",
    "        self.value = value # 分裂属性的取值\n",
    "        self.label = label # 叶子节点的类标签\n",
    "        self.children = {} # 子节点的字典，格式为属性值：子节点"
   ],
   "metadata": {
    "collapsed": false,
    "pycharm": {
     "name": "#%%\n"
    }
   }
  },
  {
   "cell_type": "code",
   "execution_count": null,
   "outputs": [],
   "source": [
    "class DecisionTreeID3:\n",
    "    def __init__(self):\n",
    "        self.root = None\n",
    "\n",
    "    def fit(self, X, y):\n",
    "        self.root = self._build_tree(X,y)\n",
    "\n",
    "    def _build_tree(self, X, y):\n",
    "        attributes = list(range(X.shape[1])) # 获取所有属性的索引表\n",
    "\n",
    "        # 递归构建决策树\n",
    "        return self._recursive_build_tree(X, y, attributes)\n",
    "\n",
    "    def _recursive_build_tree(self, X, y, attributes):\n",
    "        node = Node()\n",
    "\n",
    "        # 所有的样本属于同一类别，直接设置叶子节点的类标签\n",
    "        if np.all(y == y[0]):\n",
    "            node.label = y[0]\n",
    "            return node\n",
    "\n",
    "        # 若属性列表为空，则叶子节点的类标签为样本中最多的类别\n",
    "        if not attributes:\n",
    "            node.label = np.argmax(np.bincount(y))\n",
    "            return node\n",
    "\n",
    "        best_attr, best_value = self._choose_best_attr(X,y, attributes)\n",
    "\n",
    "        # 设置当前节点的分裂属性和取值\n",
    "        node.attribute = best_attr\n",
    "        node.value = best_value\n",
    "\n",
    "        attr_col = X[:, best_attr]\n",
    "        unique_values = np.unique(attr_col)\n",
    "\n",
    "        for value in unique_values:\n",
    "            # 选取分裂属性为best_attr,取值为value的样本\n",
    "            mask = attr_col == value\n",
    "            X_subset, y_subset = X[mask], y[mask]\n",
    "\n",
    "            # 从属性列表中移除best_attr，递归构建子树\n",
    "            attributes_subset = attributes.copy()\n",
    "            attributes_subset.remove(best_attr)\n",
    "\n",
    "            child_node = self._recursive_build_tree(X_subset, y_subset, attributes_subset)\n",
    "            node.chilren[value] = child_node\n",
    "\n",
    "        return node"
   ],
   "metadata": {
    "collapsed": false,
    "pycharm": {
     "name": "#%%\n"
    }
   }
  }
 ],
 "metadata": {
  "kernelspec": {
   "display_name": "Python 3",
   "language": "python",
   "name": "python3"
  },
  "language_info": {
   "codemirror_mode": {
    "name": "ipython",
    "version": 2
   },
   "file_extension": ".py",
   "mimetype": "text/x-python",
   "name": "python",
   "nbconvert_exporter": "python",
   "pygments_lexer": "ipython2",
   "version": "2.7.6"
  }
 },
 "nbformat": 4,
 "nbformat_minor": 0
}