{
 "cells": [
  {
   "cell_type": "code",
   "execution_count": 1,
   "metadata": {
    "collapsed": true,
    "pycharm": {
     "name": "#%%\n"
    }
   },
   "outputs": [],
   "source": [
    "import numpy as np\n",
    "from mnist import Mnist"
   ]
  },
  {
   "cell_type": "markdown",
   "source": [
    "### 经验熵：H(D) = Sum(|C_k|/|D| * log2(|C_k|/|D|)))\n",
    "### 信息增益：H(D) - H(D|A)，\n",
    "### 信息纯度：Gini(D) = 1 - (sum(|C_k|/|D|))^2\n",
    "- ID3：通过信息增益来进行分支，基础公式：\n",
    "- C4.5: 通过信息增益比\n",
    "- CART:Gini"
   ],
   "metadata": {
    "collapsed": false,
    "pycharm": {
     "name": "#%% md\n"
    }
   }
  },
  {
   "cell_type": "markdown",
   "source": [
    "### H(D|A) = Sum(D_I/D * H(D)), D_I表示特征A取值为I的样本子集"
   ],
   "metadata": {
    "collapsed": false,
    "pycharm": {
     "name": "#%% md\n"
    }
   }
  },
  {
   "cell_type": "code",
   "execution_count": 2,
   "outputs": [],
   "source": [
    "class Node:\n",
    "    def __init__(self, attribute=None, value=None, label=None):\n",
    "        self.attribute = attribute\n",
    "        self.value = value # 分裂属性的取值\n",
    "        self.label = label # 叶子节点的类标签\n",
    "        self.children = {} # 子节点的字典，格式为属性值：子节点"
   ],
   "metadata": {
    "collapsed": false,
    "pycharm": {
     "name": "#%%\n"
    }
   }
  },
  {
   "cell_type": "code",
   "execution_count": 3,
   "outputs": [],
   "source": [
    "class DecisionTreeID3:\n",
    "    def __init__(self):\n",
    "        self.root = None\n",
    "\n",
    "    def fit(self, X, y):\n",
    "        self.root = self._build_tree(X,y)\n",
    "\n",
    "    def _build_tree(self, X, y):\n",
    "        attributes = list(range(X.shape[1])) # 获取所有属性的索引表\n",
    "\n",
    "        # 递归构建决策树\n",
    "        return self._recursive_build_tree(X, y, attributes)\n",
    "\n",
    "    def _recursive_build_tree(self, X, y, attributes):\n",
    "        node = Node()\n",
    "\n",
    "        # 所有的样本属于同一类别，直接设置叶子节点的类标签\n",
    "        if np.all(y == y[0]):\n",
    "            node.label = y[0]\n",
    "            return node\n",
    "\n",
    "        # 若属性列表为空，则叶子节点的类标签为样本中最多的类别\n",
    "        if not attributes:\n",
    "            node.label = np.argmax(np.bincount(y))\n",
    "            return node\n",
    "\n",
    "        best_attr, best_value = self._choose_best_attr(X,y, attributes)\n",
    "\n",
    "        # 设置当前节点的分裂属性和取值\n",
    "        node.attribute = best_attr\n",
    "        node.value = best_value\n",
    "\n",
    "        attr_col = X[:, best_attr]\n",
    "        unique_values = np.unique(attr_col)\n",
    "\n",
    "        for value in unique_values:\n",
    "            # 选取分裂属性为best_attr,取值为value的样本\n",
    "            mask = attr_col == value\n",
    "            X_subset, y_subset = X[mask], y[mask]\n",
    "\n",
    "            # 从属性列表中移除best_attr，递归构建子树\n",
    "            attributes_subset = attributes.copy()\n",
    "            attributes_subset.remove(best_attr)\n",
    "\n",
    "            child_node = self._recursive_build_tree(X_subset, y_subset, attributes_subset)\n",
    "            node.chilren[value] = child_node\n",
    "\n",
    "        return node\n",
    "\n",
    "    def _choose_best_attr(self, X, y, attributes):\n",
    "        best_attr = None\n",
    "        best_value = None\n",
    "\n",
    "        best_info_gain = -np.inf\n",
    "\n",
    "        # 计算初始信息熵\n",
    "        initial_entropy = self._calculate_entropy(y)\n",
    "\n",
    "        # 计算每个属性的信息增益，选择最大的信息增益\n",
    "        for attr in attributes:\n",
    "            attr_col = X[:, attr]\n",
    "            unique_values = np.unique(attr_col)\n",
    "            for value in unique_values:\n",
    "                # 根据属性和取值划分数据集\n",
    "                mask = attr_col == value\n",
    "                X_subset, y_subset = X[mask], y[mask]\n",
    "\n",
    "                # 计算划分后的加权信息熵\n",
    "                subset_entropy = self._calculate_entropy(y_subset)\n",
    "\n",
    "                info_gain = initial_entropy - subset_entropy\n",
    "\n",
    "                # 计算信息增益\n",
    "                if info_gain > best_info_gain:\n",
    "                    best_info_gain = best_info_gain\n",
    "                    best_attr = attr\n",
    "                    best_value = value\n",
    "\n",
    "        return best_attr, best_value\n",
    "\n",
    "    def _calculate_entropy(self, y):\n",
    "        # 计算给定标签的信息熵\n",
    "        class_cnt = np.bincount(y)\n",
    "        class_probs = class_cnt / len(y)\n",
    "        entropy = -np.sum(class_probs * np.log2(class_probs + 1e-8))\n",
    "        return entropy\n",
    "\n",
    "    def _traverse_tree(self, node:Node, instance):\n",
    "        # 遍历决策树，根据实例的属性值预测类别\n",
    "        if node.label is not None:\n",
    "            return node.label\n",
    "\n",
    "        attr_value = instance[node.attribute]\n",
    "        if attr_value in node.children:\n",
    "            chile_node = node.children[attr_value]\n",
    "            return self._traverse_tree(chile_node, instance)\n",
    "\n",
    "        return np.random.choice(np.unique(instance))"
   ],
   "metadata": {
    "collapsed": false,
    "pycharm": {
     "name": "#%%\n"
    }
   }
  },
  {
   "cell_type": "code",
   "execution_count": null,
   "outputs": [],
   "source": [],
   "metadata": {
    "collapsed": false,
    "pycharm": {
     "name": "#%%\n"
    }
   }
  }
 ],
 "metadata": {
  "kernelspec": {
   "display_name": "Python 3",
   "language": "python",
   "name": "python3"
  },
  "language_info": {
   "codemirror_mode": {
    "name": "ipython",
    "version": 2
   },
   "file_extension": ".py",
   "mimetype": "text/x-python",
   "name": "python",
   "nbconvert_exporter": "python",
   "pygments_lexer": "ipython2",
   "version": "2.7.6"
  }
 },
 "nbformat": 4,
 "nbformat_minor": 0
}