{
 "cells": [
  {
   "cell_type": "code",
   "execution_count": 3,
   "metadata": {
    "collapsed": true,
    "pycharm": {
     "name": "#%%\n"
    }
   },
   "outputs": [],
   "source": [
    "import numpy as np\n",
    "from mnist import Mnist"
   ]
  },
  {
   "cell_type": "code",
   "execution_count": 4,
   "outputs": [],
   "source": [
    "dataloadeer = Mnist()\n",
    "train_data, train_label = dataloadeer.get_data()\n",
    "test_data, test_label = dataloadeer.get_data(False)"
   ],
   "metadata": {
    "collapsed": false,
    "pycharm": {
     "name": "#%%\n"
    }
   }
  },
  {
   "cell_type": "markdown",
   "source": [
    "### 经验熵：H(D) = Sum(|C_k|/|D| * log2(|C_k|/|D|)))\n",
    "### 信息增益：H(D) - H(D|A)，\n",
    "### 信息纯度：Gini(D) = 1 - (sum(|C_k|/|D|))^2\n",
    "- ID3：通过信息增益来进行分支，基础公式：\n",
    "- C4.5: 通过信息增益比\n",
    "- CART:Gini"
   ],
   "metadata": {
    "collapsed": false,
    "pycharm": {
     "name": "#%% md\n"
    }
   }
  },
  {
   "cell_type": "code",
   "execution_count": 4,
   "outputs": [],
   "source": [
    "def cal_entropy(label_arr):\n",
    "    entropy = 0\n",
    "    label_set = set(label_arr)\n",
    "    for i in label_set:\n",
    "        p = label_arr[label_arr == i].size / len(label_arr) # C_K / D\n",
    "        entropy += -1 * p * np.log2(p)\n",
    "    return entropy"
   ],
   "metadata": {
    "collapsed": false,
    "pycharm": {
     "name": "#%%\n"
    }
   }
  },
  {
   "cell_type": "markdown",
   "source": [
    "### H(D|A) = Sum(D_I/D * H(D)), D_I表示特征A取值为I的样本子集"
   ],
   "metadata": {
    "collapsed": false,
    "pycharm": {
     "name": "#%% md\n"
    }
   }
  },
  {
   "cell_type": "code",
   "execution_count": 8,
   "outputs": [],
   "source": [
    "def cal_conditional_entroy(feature_array:np.array, label_array:np.array):\n",
    "    H_D_A = 0\n",
    "\n",
    "    label_set = set(feature_array)\n",
    "    for i in label_set:\n",
    "        H_D_i = cal_entropy(label_array[feature_array == i])\n",
    "        H_D_A += H_D_i * feature_array[feature_array == i].size / feature_array.size\n",
    "\n",
    "    return H_D_A"
   ],
   "metadata": {
    "collapsed": false,
    "pycharm": {
     "name": "#%%\n"
    }
   }
  },
  {
   "cell_type": "code",
   "execution_count": 9,
   "outputs": [],
   "source": [
    "def cal_info_gain(feature_array, label_array):\n",
    "    return cal_entropy(label_array) - cal_conditional_entroy(feature_array, label_array)"
   ],
   "metadata": {
    "collapsed": false,
    "pycharm": {
     "name": "#%%\n"
    }
   }
  },
  {
   "cell_type": "code",
   "execution_count": 10,
   "outputs": [],
   "source": [
    "class Tree4Decision():\n",
    "    def __init__(self):\n",
    "        self.featureIdx = None\n",
    "        self.featureVal = None\n",
    "        self.chilren = dict()\n",
    "        self.label = None"
   ],
   "metadata": {
    "collapsed": false,
    "pycharm": {
     "name": "#%%\n"
    }
   }
  },
  {
   "cell_type": "code",
   "execution_count": null,
   "outputs": [],
   "source": [
    "class ID3DesicionTree():\n"
   ],
   "metadata": {
    "collapsed": false,
    "pycharm": {
     "name": "#%%\n"
    }
   }
  }
 ],
 "metadata": {
  "kernelspec": {
   "display_name": "Python 3",
   "language": "python",
   "name": "python3"
  },
  "language_info": {
   "codemirror_mode": {
    "name": "ipython",
    "version": 2
   },
   "file_extension": ".py",
   "mimetype": "text/x-python",
   "name": "python",
   "nbconvert_exporter": "python",
   "pygments_lexer": "ipython2",
   "version": "2.7.6"
  }
 },
 "nbformat": 4,
 "nbformat_minor": 0
}