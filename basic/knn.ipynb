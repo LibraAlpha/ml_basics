{
 "cells": [
  {
   "cell_type": "code",
   "execution_count": 3,
   "metadata": {
    "collapsed": true,
    "pycharm": {
     "name": "#%%\n"
    }
   },
   "outputs": [],
   "source": [
    "import numpy as np\n",
    "from mnist import Mnist"
   ]
  },
  {
   "cell_type": "code",
   "execution_count": 4,
   "outputs": [],
   "source": [
    "dataloader = Mnist()\n",
    "train_data, train_label = dataloader.get_data()\n",
    "test_data, test_label = dataloader.get_data(False)"
   ],
   "metadata": {
    "collapsed": false,
    "pycharm": {
     "name": "#%%\n"
    }
   }
  },
  {
   "cell_type": "code",
   "execution_count": 5,
   "outputs": [],
   "source": [
    "def cal_dist(x1, x2):\n",
    "    # 计算欧式距离：样本点对应的元素相减结果平方，求和后开方\n",
    "    return np.sqrt(np.sum(np.square(x1 - x2)))"
   ],
   "metadata": {
    "collapsed": false,
    "pycharm": {
     "name": "#%%\n"
    }
   }
  },
  {
   "cell_type": "code",
   "execution_count": 10,
   "outputs": [],
   "source": [
    "def get_label(x, topN):\n",
    "    \"\"\"\n",
    "    找到与样本最近的N个点，根据标签最多的决定当前点的标签\n",
    "    \"\"\"\n",
    "    dist_list=[0] * len(train_data)\n",
    "    for i in range(len(train_data)):\n",
    "        dist = cal_dist(x, np.array(train_data[i]))\n",
    "        dist_list[i] = dist\n",
    "\n",
    "    topN_idx_list = np.argsort(dist_list)[:topN]\n",
    "    label_list = [0] * 10 # 0-9共10个标记\n",
    "\n",
    "    for idx in topN_idx_list:\n",
    "        label_list[train_label[idx]] += 1\n",
    "\n",
    "    return label_list.index(max(label_list))"
   ],
   "metadata": {
    "collapsed": false,
    "pycharm": {
     "name": "#%%\n"
    }
   }
  },
  {
   "cell_type": "code",
   "execution_count": 11,
   "outputs": [],
   "source": [
    "def test(topN):\n",
    "    err_cnt = 0\n",
    "    for i in range(10):\n",
    "        x = test_data[i]\n",
    "        y = get_label(x, topN)\n",
    "        if y != test_label[i]:\n",
    "            err_cnt += 1\n",
    "    return 1 - err_cnt / 10"
   ],
   "metadata": {
    "collapsed": false,
    "pycharm": {
     "name": "#%%\n"
    }
   }
  },
  {
   "cell_type": "code",
   "execution_count": 12,
   "outputs": [],
   "source": [],
   "metadata": {
    "collapsed": false,
    "pycharm": {
     "name": "#%%\n"
    }
   }
  },
  {
   "cell_type": "code",
   "execution_count": null,
   "outputs": [],
   "source": [],
   "metadata": {
    "collapsed": false,
    "pycharm": {
     "name": "#%%\n"
    }
   }
  }
 ],
 "metadata": {
  "kernelspec": {
   "display_name": "Python 3",
   "language": "python",
   "name": "python3"
  },
  "language_info": {
   "codemirror_mode": {
    "name": "ipython",
    "version": 2
   },
   "file_extension": ".py",
   "mimetype": "text/x-python",
   "name": "python",
   "nbconvert_exporter": "python",
   "pygments_lexer": "ipython2",
   "version": "2.7.6"
  }
 },
 "nbformat": 4,
 "nbformat_minor": 0
}