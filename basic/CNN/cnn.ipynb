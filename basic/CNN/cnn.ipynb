{
 "cells": [
  {
   "cell_type": "code",
   "execution_count": 1,
   "id": "initial_id",
   "metadata": {
    "collapsed": true,
    "ExecuteTime": {
     "end_time": "2024-07-09T09:12:07.398463100Z",
     "start_time": "2024-07-09T09:12:04.579948Z"
    }
   },
   "outputs": [],
   "source": [
    "import torch\n",
    "import torch.nn as nn\n",
    "import torchvision\n",
    "import torchvision.transforms as transforms"
   ]
  },
  {
   "cell_type": "code",
   "execution_count": 2,
   "outputs": [],
   "source": [
    "device = torch.device('cuda' if torch.cuda.is_available() else 'cpu')"
   ],
   "metadata": {
    "collapsed": false,
    "ExecuteTime": {
     "end_time": "2024-07-09T09:12:16.329614600Z",
     "start_time": "2024-07-09T09:12:16.295618200Z"
    }
   },
   "id": "f7105cf403980ecf"
  },
  {
   "cell_type": "code",
   "execution_count": 3,
   "outputs": [],
   "source": [
    "num_classes = 10\n",
    "num_epochs = 6\n",
    "batch_size = 100\n",
    "learning_rate = 0.001"
   ],
   "metadata": {
    "collapsed": false,
    "ExecuteTime": {
     "end_time": "2024-07-09T09:12:33.457735600Z",
     "start_time": "2024-07-09T09:12:33.445736300Z"
    }
   },
   "id": "c672e4a1340bed39"
  },
  {
   "cell_type": "code",
   "execution_count": 4,
   "outputs": [],
   "source": [
    "#MNIST Dataset\n",
    "train_dataset = torchvision.datasets.MNIST(root='../../data', train=True, transform=transforms.ToTensor(), download=True)\n",
    "test_dataset = torchvision.datasets.MNIST(root='../../data', train=False, transform=transforms.ToTensor())\n",
    "\n",
    "# Data loader (input pipeline)\n",
    "train_loader = torch.utils.data.DataLoader(dataset=train_dataset, \n",
    "                                           batch_size=batch_size, \n",
    "                                           shuffle=True)\n",
    "\n",
    "test_loader = torch.utils.data.DataLoader(dataset=test_dataset, \n",
    "                                          batch_size=batch_size, \n",
    "                                          shuffle=False)"
   ],
   "metadata": {
    "collapsed": false,
    "ExecuteTime": {
     "end_time": "2024-07-09T09:19:06.237523Z",
     "start_time": "2024-07-09T09:19:06.187524300Z"
    }
   },
   "id": "3bcd02f3aa8ed989"
  },
  {
   "cell_type": "markdown",
   "source": [
    "卷积层维度计算:Output Size = (Input Size−Kernel Size+2×Padding)/stride + 1\n",
    "池化层维度计算：Output Size = Input Size / Stride\n",
    "\n",
    "\n",
    "\n",
    "\n",
    " "
   ],
   "metadata": {
    "collapsed": false
   },
   "id": "6e587fe2a4bf17f5"
  },
  {
   "cell_type": "code",
   "execution_count": 6,
   "outputs": [],
   "source": [
    "class SimpleCNN(nn.Module):\n",
    "    def __init__(self, num_classes = 10):\n",
    "        super(SimpleCNN, self).__init__()\n",
    "        self.layer1 = nn.Sequential(\n",
    "            nn.Conv2d(1, 16, kernel_size=5, stride=1, padding=2),\n",
    "            nn.BatchNorm2d(16),\n",
    "            nn.ReLU(),\n",
    "            nn.MaxPool2d(kernel_size=2, stride=2)\n",
    "        )\n",
    "        self.layer2 = nn.Sequential(\n",
    "            nn.Conv2d(16, 32, kernel_size=5, stride=1, padding=2),\n",
    "            nn.BatchNorm2d(32),\n",
    "            nn.ReLU(),\n",
    "            nn.MaxPool2d(kernel_size=2, stride=2)\n",
    "        )\n",
    "        \n",
    "        self.fc = nn.Linear(7 * 7 * 32, num_classes)\n",
    "        \n",
    "    def forward(self, x):\n",
    "        out = self.layer1(x)\n",
    "        out = self.layer2(out)\n",
    "        out = out.reshape(out.size(0), -1)\n",
    "        out = self.fc(out)\n",
    "        return out"
   ],
   "metadata": {
    "collapsed": false,
    "ExecuteTime": {
     "end_time": "2024-07-09T09:48:23.211380900Z",
     "start_time": "2024-07-09T09:48:23.199382500Z"
    }
   },
   "id": "9fd466de998df1d8"
  },
  {
   "cell_type": "code",
   "execution_count": 7,
   "outputs": [],
   "source": [
    "model = SimpleCNN(num_classes).to(device)"
   ],
   "metadata": {
    "collapsed": false,
    "ExecuteTime": {
     "end_time": "2024-07-09T09:48:23.944832300Z",
     "start_time": "2024-07-09T09:48:23.831834600Z"
    }
   },
   "id": "ae89d508b9eceb28"
  },
  {
   "cell_type": "code",
   "execution_count": 8,
   "outputs": [],
   "source": [
    "# Loss and optimizer\n",
    "criterion = nn.CrossEntropyLoss()\n",
    "optimizer = torch.optim.Adam(model.parameters(), lr=learning_rate)"
   ],
   "metadata": {
    "collapsed": false,
    "ExecuteTime": {
     "end_time": "2024-07-09T09:48:35.885680800Z",
     "start_time": "2024-07-09T09:48:35.873679300Z"
    }
   },
   "id": "c94e370c0fd411ac"
  },
  {
   "cell_type": "code",
   "execution_count": 9,
   "outputs": [
    {
     "name": "stdout",
     "output_type": "stream",
     "text": [
      "Epoch [1/6], Step [100/600], Loss: 0.1924\n",
      "Epoch [1/6], Step [200/600], Loss: 0.0741\n",
      "Epoch [1/6], Step [300/600], Loss: 0.1905\n",
      "Epoch [1/6], Step [400/600], Loss: 0.0201\n",
      "Epoch [1/6], Step [500/600], Loss: 0.0217\n",
      "Epoch [1/6], Step [600/600], Loss: 0.0404\n",
      "Epoch [2/6], Step [100/600], Loss: 0.0275\n",
      "Epoch [2/6], Step [200/600], Loss: 0.0655\n",
      "Epoch [2/6], Step [300/600], Loss: 0.0235\n",
      "Epoch [2/6], Step [400/600], Loss: 0.0383\n",
      "Epoch [2/6], Step [500/600], Loss: 0.0199\n",
      "Epoch [2/6], Step [600/600], Loss: 0.0666\n",
      "Epoch [3/6], Step [100/600], Loss: 0.0128\n",
      "Epoch [3/6], Step [200/600], Loss: 0.0305\n",
      "Epoch [3/6], Step [300/600], Loss: 0.0148\n",
      "Epoch [3/6], Step [400/600], Loss: 0.0176\n",
      "Epoch [3/6], Step [500/600], Loss: 0.0051\n",
      "Epoch [3/6], Step [600/600], Loss: 0.0099\n",
      "Epoch [4/6], Step [100/600], Loss: 0.0169\n",
      "Epoch [4/6], Step [200/600], Loss: 0.0295\n",
      "Epoch [4/6], Step [300/600], Loss: 0.0141\n",
      "Epoch [4/6], Step [400/600], Loss: 0.1414\n",
      "Epoch [4/6], Step [500/600], Loss: 0.0026\n",
      "Epoch [4/6], Step [600/600], Loss: 0.0094\n",
      "Epoch [5/6], Step [100/600], Loss: 0.0073\n",
      "Epoch [5/6], Step [200/600], Loss: 0.0222\n",
      "Epoch [5/6], Step [300/600], Loss: 0.0321\n",
      "Epoch [5/6], Step [400/600], Loss: 0.0198\n",
      "Epoch [5/6], Step [500/600], Loss: 0.0011\n",
      "Epoch [5/6], Step [600/600], Loss: 0.0060\n",
      "Epoch [6/6], Step [100/600], Loss: 0.0391\n",
      "Epoch [6/6], Step [200/600], Loss: 0.0043\n",
      "Epoch [6/6], Step [300/600], Loss: 0.0063\n",
      "Epoch [6/6], Step [400/600], Loss: 0.0248\n",
      "Epoch [6/6], Step [500/600], Loss: 0.0324\n",
      "Epoch [6/6], Step [600/600], Loss: 0.0099\n"
     ]
    }
   ],
   "source": [
    "# Train the model\n",
    "total_step = len(train_loader)\n",
    "for epoch in range(num_epochs):\n",
    "    for i, (images, labels) in enumerate(train_loader):\n",
    "        images = images.to(device)\n",
    "        labels = labels.to(device)\n",
    "        \n",
    "        # Forward pass\n",
    "        outputs = model(images)\n",
    "        loss = criterion(outputs, labels)\n",
    "        \n",
    "        # Backward and optimize\n",
    "        optimizer.zero_grad()\n",
    "        loss.backward()\n",
    "        optimizer.step()\n",
    "        \n",
    "        if (i+1) % 100 == 0:\n",
    "            print ('Epoch [{}/{}], Step [{}/{}], Loss: {:.4f}' \n",
    "                   .format(epoch+1, num_epochs, i+1, total_step, loss.item()))"
   ],
   "metadata": {
    "collapsed": false,
    "ExecuteTime": {
     "end_time": "2024-07-09T09:49:34.580329900Z",
     "start_time": "2024-07-09T09:48:50.464820500Z"
    }
   },
   "id": "895fa29579db4aee"
  },
  {
   "cell_type": "code",
   "execution_count": 10,
   "outputs": [
    {
     "name": "stdout",
     "output_type": "stream",
     "text": [
      "Test Accuracy of the model on the 10000 test images: 98.77 %\n"
     ]
    }
   ],
   "source": [
    "# Test the model\n",
    "model.eval()  # eval mode (batchnorm uses moving mean/variance instead of mini-batch mean/variance)\n",
    "with torch.no_grad():\n",
    "    correct = 0\n",
    "    total = 0\n",
    "    for images, labels in test_loader:\n",
    "        images = images.to(device)\n",
    "        labels = labels.to(device)\n",
    "        outputs = model(images)\n",
    "        _, predicted = torch.max(outputs.data, 1)\n",
    "        total += labels.size(0)\n",
    "        correct += (predicted == labels).sum().item()\n",
    "\n",
    "    print('Test Accuracy of the model on the 10000 test images: {} %'.format(100 * correct / total))"
   ],
   "metadata": {
    "collapsed": false,
    "ExecuteTime": {
     "end_time": "2024-07-09T09:49:39.086529400Z",
     "start_time": "2024-07-09T09:49:37.661528900Z"
    }
   },
   "id": "a9d681c5ebdb79c"
  }
 ],
 "metadata": {
  "kernelspec": {
   "display_name": "Python 3",
   "language": "python",
   "name": "python3"
  },
  "language_info": {
   "codemirror_mode": {
    "name": "ipython",
    "version": 2
   },
   "file_extension": ".py",
   "mimetype": "text/x-python",
   "name": "python",
   "nbconvert_exporter": "python",
   "pygments_lexer": "ipython2",
   "version": "2.7.6"
  }
 },
 "nbformat": 4,
 "nbformat_minor": 5
}
