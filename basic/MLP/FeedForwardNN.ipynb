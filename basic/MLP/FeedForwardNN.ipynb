{
 "cells": [
  {
   "cell_type": "code",
   "execution_count": 1,
   "id": "initial_id",
   "metadata": {
    "collapsed": true,
    "ExecuteTime": {
     "end_time": "2024-07-09T07:30:35.041568100Z",
     "start_time": "2024-07-09T07:30:27.432726500Z"
    }
   },
   "outputs": [],
   "source": [
    "import torch\n",
    "import torch.nn as nn\n",
    "import torchvision\n",
    "import torchvision.transforms as transforms"
   ]
  },
  {
   "cell_type": "code",
   "execution_count": 2,
   "outputs": [],
   "source": [
    "device = torch.device('cuda' if torch.cuda.is_available() else 'cpu')"
   ],
   "metadata": {
    "collapsed": false,
    "ExecuteTime": {
     "end_time": "2024-07-09T07:31:01.835239600Z",
     "start_time": "2024-07-09T07:31:01.801240500Z"
    }
   },
   "id": "85c13f7a7b99b7e9"
  },
  {
   "cell_type": "code",
   "execution_count": 3,
   "outputs": [],
   "source": [
    "# hyper params\n",
    "input_size = 784\n",
    "hidden_size = 500\n",
    "num_classes = 10\n",
    "num_epochs = 6\n",
    "batch_size = 100\n",
    "learning_rate = 0.001"
   ],
   "metadata": {
    "collapsed": false,
    "ExecuteTime": {
     "end_time": "2024-07-09T07:33:22.592509200Z",
     "start_time": "2024-07-09T07:33:22.578511700Z"
    }
   },
   "id": "caca2686966fb23b"
  },
  {
   "cell_type": "code",
   "execution_count": 4,
   "outputs": [],
   "source": [
    "#MNIST Dataset\n",
    "train_dataset = torchvision.datasets.MNIST(root='../../data', train=True, transform=transforms.ToTensor(), download=True)\n",
    "test_dataset = torchvision.datasets.MNIST(root='../../data', train=False, transform=transforms.ToTensor())\n",
    "\n",
    "# Data loader (input pipeline)\n",
    "train_loader = torch.utils.data.DataLoader(dataset=train_dataset, \n",
    "                                           batch_size=batch_size, \n",
    "                                           shuffle=True)\n",
    "\n",
    "test_loader = torch.utils.data.DataLoader(dataset=test_dataset, \n",
    "                                          batch_size=batch_size, \n",
    "                                          shuffle=False)"
   ],
   "metadata": {
    "collapsed": false,
    "ExecuteTime": {
     "end_time": "2024-07-09T07:35:32.791112300Z",
     "start_time": "2024-07-09T07:35:32.743111700Z"
    }
   },
   "id": "72cdcfa3e90ca691"
  },
  {
   "cell_type": "code",
   "execution_count": 5,
   "outputs": [],
   "source": [
    "class SimpleNN(nn.Module):\n",
    "    def __init__(self, input_size, hidden_size, num_classes):\n",
    "        super(SimpleNN, self).__init__()\n",
    "        self.fc1 = nn.Linear(input_size, hidden_size)\n",
    "        self.relu = nn.ReLU()\n",
    "        self.fc2 = nn.Linear(hidden_size, num_classes)\n",
    "        \n",
    "    def forward(self, x):\n",
    "        out = self.fc1(x)\n",
    "        out = self.relu(out)\n",
    "        out = self.fc2(out)\n",
    "        return out"
   ],
   "metadata": {
    "collapsed": false,
    "ExecuteTime": {
     "end_time": "2024-07-09T08:01:28.934463200Z",
     "start_time": "2024-07-09T08:01:28.916464Z"
    }
   },
   "id": "5afd708925b6229c"
  },
  {
   "cell_type": "code",
   "execution_count": 6,
   "outputs": [],
   "source": [
    "model = SimpleNN(input_size, hidden_size, num_classes).to(device)"
   ],
   "metadata": {
    "collapsed": false,
    "ExecuteTime": {
     "end_time": "2024-07-09T08:02:38.623810500Z",
     "start_time": "2024-07-09T08:02:38.194812400Z"
    }
   },
   "id": "245ff93f1fc5338"
  },
  {
   "cell_type": "code",
   "execution_count": 7,
   "outputs": [],
   "source": [
    "# loss and optimizer\n",
    "criterion = nn.CrossEntropyLoss()\n",
    "optimizer = torch.optim.Adam(model.parameters(), lr=learning_rate)"
   ],
   "metadata": {
    "collapsed": false,
    "ExecuteTime": {
     "end_time": "2024-07-09T08:26:00.166952300Z",
     "start_time": "2024-07-09T08:26:00.150951400Z"
    }
   },
   "id": "fecb2d27e005a637"
  },
  {
   "cell_type": "code",
   "execution_count": 8,
   "outputs": [
    {
     "name": "stdout",
     "output_type": "stream",
     "text": [
      "Epoch [1/6], Step [100/600], Loss: 0.3389\n",
      "Epoch [1/6], Step [200/600], Loss: 0.2552\n",
      "Epoch [1/6], Step [300/600], Loss: 0.1837\n",
      "Epoch [1/6], Step [400/600], Loss: 0.1290\n",
      "Epoch [1/6], Step [500/600], Loss: 0.1359\n",
      "Epoch [1/6], Step [600/600], Loss: 0.1225\n",
      "Epoch [2/6], Step [100/600], Loss: 0.1804\n",
      "Epoch [2/6], Step [200/600], Loss: 0.1049\n",
      "Epoch [2/6], Step [300/600], Loss: 0.1471\n",
      "Epoch [2/6], Step [400/600], Loss: 0.0990\n",
      "Epoch [2/6], Step [500/600], Loss: 0.0445\n",
      "Epoch [2/6], Step [600/600], Loss: 0.0588\n",
      "Epoch [3/6], Step [100/600], Loss: 0.0545\n",
      "Epoch [3/6], Step [200/600], Loss: 0.0908\n",
      "Epoch [3/6], Step [300/600], Loss: 0.1409\n",
      "Epoch [3/6], Step [400/600], Loss: 0.0206\n",
      "Epoch [3/6], Step [500/600], Loss: 0.1199\n",
      "Epoch [3/6], Step [600/600], Loss: 0.0230\n",
      "Epoch [4/6], Step [100/600], Loss: 0.0330\n",
      "Epoch [4/6], Step [200/600], Loss: 0.0316\n",
      "Epoch [4/6], Step [300/600], Loss: 0.0446\n",
      "Epoch [4/6], Step [400/600], Loss: 0.0443\n",
      "Epoch [4/6], Step [500/600], Loss: 0.0881\n",
      "Epoch [4/6], Step [600/600], Loss: 0.0933\n",
      "Epoch [5/6], Step [100/600], Loss: 0.0118\n",
      "Epoch [5/6], Step [200/600], Loss: 0.0288\n",
      "Epoch [5/6], Step [300/600], Loss: 0.0222\n",
      "Epoch [5/6], Step [400/600], Loss: 0.0348\n",
      "Epoch [5/6], Step [500/600], Loss: 0.0079\n",
      "Epoch [5/6], Step [600/600], Loss: 0.0352\n",
      "Epoch [6/6], Step [100/600], Loss: 0.0270\n",
      "Epoch [6/6], Step [200/600], Loss: 0.0835\n",
      "Epoch [6/6], Step [300/600], Loss: 0.0211\n",
      "Epoch [6/6], Step [400/600], Loss: 0.0367\n",
      "Epoch [6/6], Step [500/600], Loss: 0.0184\n",
      "Epoch [6/6], Step [600/600], Loss: 0.0528\n"
     ]
    }
   ],
   "source": [
    "# Train the model\n",
    "total_step = len(train_loader)\n",
    "for epoch in range(num_epochs):\n",
    "    for i, (images, labels) in enumerate(train_loader):\n",
    "        images = images.reshape(-1, input_size).to(device)\n",
    "        labels = labels.to(device)\n",
    "        \n",
    "        outputs = model(images)\n",
    "        loss = criterion(outputs, labels)\n",
    "        \n",
    "        # Backward and optimize\n",
    "        optimizer.zero_grad()\n",
    "        loss.backward()\n",
    "        optimizer.step()\n",
    "        \n",
    "        if (i+1) % 100 == 0:\n",
    "            print ('Epoch [{}/{}], Step [{}/{}], Loss: {:.4f}' \n",
    "                   .format(epoch+1, num_epochs, i+1, total_step, loss.item()))"
   ],
   "metadata": {
    "collapsed": false,
    "ExecuteTime": {
     "end_time": "2024-07-09T08:31:32.488463900Z",
     "start_time": "2024-07-09T08:30:51.259127100Z"
    }
   },
   "id": "e737f9d402b4fac9"
  },
  {
   "cell_type": "code",
   "execution_count": 9,
   "outputs": [
    {
     "name": "stdout",
     "output_type": "stream",
     "text": [
      "Accuracy of the network on the 10000 test images: 98.07%\n"
     ]
    }
   ],
   "source": [
    "with torch.no_grad():\n",
    "    correct = 0\n",
    "    total = 0\n",
    "    for images, labels in test_loader:\n",
    "        images = images.reshape(-1, input_size).to(device)\n",
    "        labels = labels.to(device)\n",
    "        outputs = model(images)\n",
    "        _, predicted = torch.max(outputs.data, 1)\n",
    "        total += labels.size(0)\n",
    "        correct += (predicted == labels).sum().item()\n",
    "        \n",
    "    print('Accuracy of the network on the 10000 test images: {}%'.format(100 * correct / total))"
   ],
   "metadata": {
    "collapsed": false,
    "ExecuteTime": {
     "end_time": "2024-07-09T08:33:49.780734300Z",
     "start_time": "2024-07-09T08:33:48.633735500Z"
    }
   },
   "id": "691af57bd816cf8c"
  },
  {
   "cell_type": "code",
   "execution_count": 10,
   "outputs": [
    {
     "data": {
      "text/plain": "device(type='cuda')"
     },
     "execution_count": 10,
     "metadata": {},
     "output_type": "execute_result"
    }
   ],
   "source": [
    "device"
   ],
   "metadata": {
    "collapsed": false,
    "ExecuteTime": {
     "end_time": "2024-07-09T08:35:33.884110100Z",
     "start_time": "2024-07-09T08:35:33.860110600Z"
    }
   },
   "id": "984ebe5c3d9d1a4e"
  },
  {
   "cell_type": "code",
   "execution_count": null,
   "outputs": [],
   "source": [],
   "metadata": {
    "collapsed": false
   },
   "id": "d1d55d8c2bf2a614"
  }
 ],
 "metadata": {
  "kernelspec": {
   "display_name": "Python 3",
   "language": "python",
   "name": "python3"
  },
  "language_info": {
   "codemirror_mode": {
    "name": "ipython",
    "version": 2
   },
   "file_extension": ".py",
   "mimetype": "text/x-python",
   "name": "python",
   "nbconvert_exporter": "python",
   "pygments_lexer": "ipython2",
   "version": "2.7.6"
  }
 },
 "nbformat": 4,
 "nbformat_minor": 5
}
