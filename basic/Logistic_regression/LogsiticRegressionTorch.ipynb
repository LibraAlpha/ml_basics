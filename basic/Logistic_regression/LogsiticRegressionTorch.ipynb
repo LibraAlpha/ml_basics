{
 "cells": [
  {
   "cell_type": "code",
   "execution_count": 1,
   "id": "initial_id",
   "metadata": {
    "collapsed": true,
    "ExecuteTime": {
     "end_time": "2024-07-09T03:56:03.013256100Z",
     "start_time": "2024-07-09T03:56:00.097022300Z"
    }
   },
   "outputs": [],
   "source": [
    "import torch\n",
    "import torch.nn as nn\n",
    "import torchvision\n",
    "import torchvision.transforms as transforms"
   ]
  },
  {
   "cell_type": "code",
   "execution_count": 2,
   "outputs": [],
   "source": [
    "input_size = 28 * 28 # 784\n",
    "num_classese = 10\n",
    "num_epochs = 5\n",
    "batch_size = 100\n",
    "learning_rate = 0.001"
   ],
   "metadata": {
    "collapsed": false,
    "ExecuteTime": {
     "end_time": "2024-07-09T03:59:36.696108700Z",
     "start_time": "2024-07-09T03:59:36.688110900Z"
    }
   },
   "id": "8ee701a689f86530"
  },
  {
   "cell_type": "code",
   "execution_count": 3,
   "outputs": [],
   "source": [
    "#MNIST Dataset\n",
    "train_dataset = torchvision.datasets.MNIST(root='../../data', train=True, transform=transforms.ToTensor(), download=True)\n",
    "test_dataset = torchvision.datasets.MNIST(root='../../data', train=False, transform=transforms.ToTensor())"
   ],
   "metadata": {
    "collapsed": false,
    "ExecuteTime": {
     "end_time": "2024-07-09T04:08:08.193042900Z",
     "start_time": "2024-07-09T04:08:07.705953300Z"
    }
   },
   "id": "c1082c64f5d7c9ee"
  },
  {
   "cell_type": "code",
   "execution_count": 6,
   "outputs": [],
   "source": [
    "# Data loader (input pipeline)\n",
    "train_loader = torch.utils.data.DataLoader(dataset=train_dataset, \n",
    "                                           batch_size=batch_size, \n",
    "                                           shuffle=True)\n",
    "\n",
    "test_loader = torch.utils.data.DataLoader(dataset=test_dataset, \n",
    "                                          batch_size=batch_size, \n",
    "                                          shuffle=False)\n"
   ],
   "metadata": {
    "collapsed": false,
    "ExecuteTime": {
     "end_time": "2024-07-09T06:53:41.112009600Z",
     "start_time": "2024-07-09T06:53:40.997009200Z"
    }
   },
   "id": "d8d59c6ac7a4befd"
  },
  {
   "cell_type": "code",
   "execution_count": 4,
   "outputs": [],
   "source": [
    "model = nn.Linear(input_size, num_classese)"
   ],
   "metadata": {
    "collapsed": false,
    "ExecuteTime": {
     "end_time": "2024-07-09T04:11:10.116243900Z",
     "start_time": "2024-07-09T04:11:10.092138800Z"
    }
   },
   "id": "174420cdd824e9c0"
  },
  {
   "cell_type": "code",
   "execution_count": 5,
   "outputs": [],
   "source": [
    "criterion = nn.CrossEntropyLoss()  \n",
    "optimizer = torch.optim.SGD(model.parameters(), lr=learning_rate)  "
   ],
   "metadata": {
    "collapsed": false,
    "ExecuteTime": {
     "end_time": "2024-07-09T06:52:06.643489900Z",
     "start_time": "2024-07-09T06:52:06.361489200Z"
    }
   },
   "id": "8b4c4cc771551eb3"
  },
  {
   "cell_type": "code",
   "execution_count": 7,
   "outputs": [
    {
     "name": "stdout",
     "output_type": "stream",
     "text": [
      "Epoch [1/5], Step [100/600], Loss: 2.2314\n",
      "Epoch [1/5], Step [200/600], Loss: 2.1571\n",
      "Epoch [1/5], Step [300/600], Loss: 2.0430\n",
      "Epoch [1/5], Step [400/600], Loss: 1.9286\n",
      "Epoch [1/5], Step [500/600], Loss: 1.8661\n",
      "Epoch [1/5], Step [600/600], Loss: 1.8011\n",
      "Epoch [2/5], Step [100/600], Loss: 1.6913\n",
      "Epoch [2/5], Step [200/600], Loss: 1.7031\n",
      "Epoch [2/5], Step [300/600], Loss: 1.6017\n",
      "Epoch [2/5], Step [400/600], Loss: 1.6228\n",
      "Epoch [2/5], Step [500/600], Loss: 1.5020\n",
      "Epoch [2/5], Step [600/600], Loss: 1.4551\n",
      "Epoch [3/5], Step [100/600], Loss: 1.4485\n",
      "Epoch [3/5], Step [200/600], Loss: 1.3222\n",
      "Epoch [3/5], Step [300/600], Loss: 1.3960\n",
      "Epoch [3/5], Step [400/600], Loss: 1.2812\n",
      "Epoch [3/5], Step [500/600], Loss: 1.3586\n",
      "Epoch [3/5], Step [600/600], Loss: 1.3141\n",
      "Epoch [4/5], Step [100/600], Loss: 1.2574\n",
      "Epoch [4/5], Step [200/600], Loss: 1.1433\n",
      "Epoch [4/5], Step [300/600], Loss: 1.1287\n",
      "Epoch [4/5], Step [400/600], Loss: 1.1696\n",
      "Epoch [4/5], Step [500/600], Loss: 1.1063\n",
      "Epoch [4/5], Step [600/600], Loss: 1.1351\n",
      "Epoch [5/5], Step [100/600], Loss: 1.1437\n",
      "Epoch [5/5], Step [200/600], Loss: 0.9964\n",
      "Epoch [5/5], Step [300/600], Loss: 1.0636\n",
      "Epoch [5/5], Step [400/600], Loss: 0.9936\n",
      "Epoch [5/5], Step [500/600], Loss: 0.9903\n",
      "Epoch [5/5], Step [600/600], Loss: 1.0103\n"
     ]
    }
   ],
   "source": [
    "total_step = len(train_loader)\n",
    "for epoch in range(num_epochs):\n",
    "    for i, (images, labels) in enumerate(train_loader):\n",
    "        # Reshape images to (batch_size, input_size)\n",
    "        images = images.reshape(-1, input_size)\n",
    "        \n",
    "        # Forward pass\n",
    "        outputs = model(images)\n",
    "        loss = criterion(outputs, labels)\n",
    "        \n",
    "        # Backward and optimize\n",
    "        optimizer.zero_grad()\n",
    "        loss.backward()\n",
    "        optimizer.step()\n",
    "        \n",
    "        if (i+1) % 100 == 0:\n",
    "            print ('Epoch [{}/{}], Step [{}/{}], Loss: {:.4f}' \n",
    "                   .format(epoch+1, num_epochs, i+1, total_step, loss.item()))"
   ],
   "metadata": {
    "collapsed": false,
    "ExecuteTime": {
     "end_time": "2024-07-09T07:13:58.779473900Z",
     "start_time": "2024-07-09T07:13:25.077357200Z"
    }
   },
   "id": "b5421780fa6789e0"
  },
  {
   "cell_type": "code",
   "execution_count": 11,
   "outputs": [
    {
     "name": "stdout",
     "output_type": "stream",
     "text": [
      "Accuracy of the model on the total test images: 82.36000061035156%\n"
     ]
    }
   ],
   "source": [
    "# test the model\n",
    "with torch.no_grad():\n",
    "    correct = 0\n",
    "    total = 0\n",
    "    for images, labels in test_loader:\n",
    "        images = images.reshape(-1, input_size)\n",
    "        outputs = model(images)\n",
    "        idx, predicted = torch.max(outputs.data, 1)        \n",
    "        total += labels.size(0)\n",
    "        correct += (predicted == labels).sum()\n",
    "        \n",
    "    print('Accuracy of the model on the total test images: {}%'.format(100 * correct / total))\n"
   ],
   "metadata": {
    "collapsed": false,
    "ExecuteTime": {
     "end_time": "2024-07-09T07:28:10.059004100Z",
     "start_time": "2024-07-09T07:28:08.994003700Z"
    }
   },
   "id": "f579e4d1a2788271"
  }
 ],
 "metadata": {
  "kernelspec": {
   "display_name": "Python 3",
   "language": "python",
   "name": "python3"
  },
  "language_info": {
   "codemirror_mode": {
    "name": "ipython",
    "version": 2
   },
   "file_extension": ".py",
   "mimetype": "text/x-python",
   "name": "python",
   "nbconvert_exporter": "python",
   "pygments_lexer": "ipython2",
   "version": "2.7.6"
  }
 },
 "nbformat": 4,
 "nbformat_minor": 5
}
