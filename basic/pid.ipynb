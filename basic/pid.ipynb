{
 "cells": [
  {
   "cell_type": "markdown",
   "source": [
    "### PID算法（Proportional-Integral-Derivative，比例-积分-微分算法）。\n",
    "PID算法是一种经典的控制算法，常用于控制系统中的反馈控制。它基于当前误差的比例、积分和微分三个方面的信息来调整控制器的输出，以实现系统的稳定和精确控制。\n",
    "PID算法的三个组成部分如下：\n",
    "1. 比例（Proportional）：比例项根据当前误差的大小产生控制输出。它的作用是根据误差的绝对值来产生一个与误差成正比的调节量。比例项可以使系统更快地响应误差，并减小稳态误差。\n",
    "2. 积分（Integral）：积分项根据过去误差的累积来产生控制输出。它的作用是消除系统的静差，使系统在稳态时达到准确的控制。积分项可以对系统的长期误差进行补偿。\n",
    "3. 微分（Derivative）：微分项根据当前误差的变化率来产生控制输出。它的作用是预测误差的未来趋势，并根据这个趋势来调整控制器的输出。微分项可以提高系统的稳定性和响应速度，并减小过冲和振荡。\n",
    "\n",
    "PID算法根据系统的需求和性质，通过调节比例、积分和微分的权重系数来实现控制器的优化。这些权重系数的选择通常需要经验和实验来确定，以满足具体的控制要求。\n",
    "PID算法在许多领域中得到广泛应用，包括工业控制、机器人控制、自动驾驶、温度控制等。它是一种简单而有效的控制算法，常用于实现系统的稳定性、精度和鲁棒性。"
   ],
   "metadata": {
    "collapsed": false,
    "pycharm": {
     "name": "#%% md\n"
    }
   }
  },
  {
   "cell_type": "markdown",
   "source": [
    "### 公式\n",
    "假设误差为e(t)，控制输出为u(t)，PID算法的公式可以表示为：\n",
    "\n",
    "$u(t) = Kp * e(t) + Ki * ∫[0,t] e(τ) dτ + Kd * de(t)/dt$\n",
    "\n",
    "其中：\n",
    "\n",
    "Kp是比例增益（Proportional Gain），用于调节比例项的影响程度。\n",
    "Ki是积分增益（Integral Gain），用于调节积分项的影响程度。\n",
    "Kd是微分增益（Derivative Gain），用于调节微分项的影响程度。\n",
    "∫[0,t] e(τ) dτ 表示从0到当前时刻t的误差e的积分。\n",
    "de(t)/dt 表示误差e的导数，表示误差变化的速率。\n",
    "根据实际应用需求，PID算法的公式可能会有一些变体和调整，例如引入滤波器、限制控制输出等。"
   ],
   "metadata": {
    "collapsed": false,
    "pycharm": {
     "name": "#%% md\n"
    }
   }
  },
  {
   "cell_type": "code",
   "execution_count": null,
   "outputs": [],
   "source": [
    "class PIDController:\n",
    "    def __init__(self, Kp, Ki, Kd):\n",
    "        self.Kp = Kp\n",
    "        self.Ki = Ki\n",
    "        self.Kd = Kd\n",
    "\n",
    "        self.error_integral = 0\n",
    "        self.previous_error = 0\n",
    "\n",
    "    def compute_control_output(self, error, dt):\n",
    "        # 比例项\n",
    "        proportional = self.Kp * error\n",
    "\n",
    "        # 积分项\n",
    "        self.error_integral += error * dt\n",
    "        integral = self.Ki * self.error_integral\n",
    "\n",
    "        # 微分项\n",
    "        deriv = self.Kd * (error - self.previous_error) / dt\n",
    "        self.previous_error = error\n",
    "\n",
    "        control_output = proportional + integral + deriv\n",
    "\n",
    "        return control_output"
   ],
   "metadata": {
    "collapsed": false,
    "pycharm": {
     "name": "#%%\n"
    }
   }
  }
 ],
 "metadata": {
  "kernelspec": {
   "display_name": "Python 3",
   "language": "python",
   "name": "python3"
  },
  "language_info": {
   "codemirror_mode": {
    "name": "ipython",
    "version": 2
   },
   "file_extension": ".py",
   "mimetype": "text/x-python",
   "name": "python",
   "nbconvert_exporter": "python",
   "pygments_lexer": "ipython2",
   "version": "2.7.6"
  }
 },
 "nbformat": 4,
 "nbformat_minor": 0
}