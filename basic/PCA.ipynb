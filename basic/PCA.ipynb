{
 "cells": [
  {
   "cell_type": "code",
   "execution_count": 1,
   "metadata": {
    "collapsed": true,
    "pycharm": {
     "name": "#%%\n"
    }
   },
   "outputs": [],
   "source": [
    "import numpy as np\n",
    "import pandas as pd"
   ]
  },
  {
   "cell_type": "markdown",
   "source": [
    "#### PCA：最大化投影方差，主要步骤为：\n",
    "1. 样本矩阵中心化\n",
    "2. 计算样本矩阵的协方差矩阵\n",
    "3. 对协方差矩阵特征值进行分解，按照从大到小排序\n",
    "4. 取前K大的特征值对应的向量"
   ],
   "metadata": {
    "collapsed": false,
    "pycharm": {
     "name": "#%% md\n"
    }
   }
  },
  {
   "cell_type": "code",
   "execution_count": 1,
   "outputs": [],
   "source": [
    "def PCA(x_mat, k):\n",
    "    \"\"\"\n",
    "    x_mat:输入的样本矩阵\n",
    "    \"\"\"\n",
    "    mean = np.mean(x, axis=0)\n",
    "    centered_mat = x - mean # 中心化后的矩阵\n",
    "\n",
    "    row, col = np.shape(centered)\n",
    "\n",
    "    conv_mat = np.cov(centered_mat.T) # 求解协方差矩阵\n",
    "\n",
    "    featureValue, featureVec = np.linalg.eig(conv_mat) # 计算特征值和特征向量\n",
    "\n",
    "    index_list = np.argsort(-featureValue)\n",
    "    if k > col:\n",
    "        print(\"k must be a number smaller than feature number in pca.\")\n",
    "        return\n",
    "    else:\n",
    "        selectVec = np.matrix(featureVec[index_list[:k]])\n",
    "        transformed = np.dot(centered_mat, selectVec.T)\n",
    "        ret = np.dot(transformed, selectVec) + mean\n",
    "\n",
    "        return transformed, ret"
   ],
   "metadata": {
    "collapsed": false,
    "pycharm": {
     "name": "#%%\n"
    }
   }
  }
 ],
 "metadata": {
  "kernelspec": {
   "display_name": "Python 3",
   "language": "python",
   "name": "python3"
  },
  "language_info": {
   "codemirror_mode": {
    "name": "ipython",
    "version": 2
   },
   "file_extension": ".py",
   "mimetype": "text/x-python",
   "name": "python",
   "nbconvert_exporter": "python",
   "pygments_lexer": "ipython2",
   "version": "2.7.6"
  }
 },
 "nbformat": 4,
 "nbformat_minor": 0
}
